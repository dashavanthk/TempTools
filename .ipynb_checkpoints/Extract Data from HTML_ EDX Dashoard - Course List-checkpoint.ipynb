{
 "cells": [
  {
   "cell_type": "markdown",
   "metadata": {},
   "source": [
    "## Data Extracter from HTML"
   ]
  },
  {
   "cell_type": "markdown",
   "metadata": {},
   "source": [
    "##### Purpose of this code is to extract the course list from Edx dashboard"
   ]
  },
  {
   "cell_type": "code",
   "execution_count": 1,
   "metadata": {
    "collapsed": true
   },
   "outputs": [],
   "source": [
    "import re\n"
   ]
  },
  {
   "cell_type": "code",
   "execution_count": 2,
   "metadata": {
    "collapsed": true
   },
   "outputs": [],
   "source": [
    "with open('EDX_Data_HTML.txt', 'r') as file:\n",
    "    data = file.read().replace('\\n', '')"
   ]
  },
  {
   "cell_type": "code",
   "execution_count": 10,
   "metadata": {
    "collapsed": true
   },
   "outputs": [],
   "source": [
    "extractt = re.findall(r\"<h3> <a>(.*?)</a> </h3>\",data)"
   ]
  },
  {
   "cell_type": "code",
   "execution_count": 13,
   "metadata": {},
   "outputs": [
    {
     "name": "stdout",
     "output_type": "stream",
     "text": [
      "Introduction to Cloud Foundry and Cloud Native Software Architecture\n",
      "Autonomous Mobile Robots\n",
      "CS50's Web Programming with Python and JavaScript\n",
      "Computer Vision and Image Analysis\n",
      "AWS Developer: Building on AWS\n",
      "Introduction to Kubernetes\n",
      "Computation Structures 1: Digital Circuits\n",
      "Robotics Foundations I - Robot Modeling\n",
      "Computation Structures 2: Computer Architecture\n",
      "Introduction to Artificial Intelligence (AI)\n",
      "Deep Learning Explained\n",
      "Introduction to Python for Data Science\n",
      "Principles of Machine Learning\n",
      "Fundamentals of Java EE Development\n",
      "Advanced Algorithmics and Graph Theory with Python\n",
      "Machine Learning for Data Science and Analytics\n",
      "Introduction to C++\n",
      "Statistical Thinking for Data Science and Analytics\n",
      "Electric Cars:&nbsp;Introduction\n",
      "Natural Language Processing (NLP)\n",
      "Introduction to Corporate Finance\n",
      "Probability and Statistics in Data Science using Python\n",
      "Python for Data Science\n",
      "Algorithm Design and Analysis\n",
      "Introduction to Linux\n",
      "Deep Learning Fundamentals with Keras\n",
      "Smarter Chatbots with Node-RED and Watson AI\n",
      "Introduction to Investments\n",
      "Probability - The Science of Uncertainty and Data\n",
      "Machine Learning\n",
      "The Quantum Internet and Quantum Computers: How&nbsp;Will They Change the World?\n",
      "The Building Blocks of a Quantum Computer: Part 2\n",
      "The Building Blocks of a Quantum Computer: Part 1\n",
      "HTML5 and CSS Fundamentals\n",
      "Designing a Technical Solution\n",
      "Public Speaking\n",
      "Bitcoin and Cryptocurrencies\n",
      "Computer Graphics\n",
      "Designing a Technical Solution\n",
      "Introduction to Probability - The Science of Uncertainty\n",
      "Computing: Art, Magic, Science\n",
      "Autonomous Navigation for Flying Robots\n",
      "Online Marketing Strategies (T3 2018)\n",
      "Extend Your Application with REST Services\n",
      "DevOps for Developers: How to Get Started\n",
      "Asynchronous Programming in C# and .NET Core\n",
      "Asynchronous Programming with Javascript\n",
      "Angular Fundamentals\n",
      "AngularJS: Advanced Framework Techniques\n",
      "Developing Data Client Applications and Services\n",
      "MVC Application Design&nbsp;using .NET Core 2.0\n",
      "Artificial Intelligence (AI)\n",
      "Introduction to Cloud Foundry and Cloud Native Software Architecture\n",
      "Machine Learning for Data Science and Analytics\n",
      "Implementing ETL with SQL Server Integration Services\n",
      "Building Functional Prototypes using Node.js\n",
      "AngularJS: Framework Fundamentals\n",
      "Introduction to jQuery\n",
      "Introduction to NodeJS\n",
      "Cloud Computing Infrastructure\n",
      "Program a Server-Side Application using ASP.NET Core\n",
      "Big Data Fundamentals\n",
      "Windows Server 2016: Basic Networking\n",
      "Windows Server 2016: Infrastructure\n",
      "Build Web APIs using ASP.NET\n",
      "Programming for the Web with JavaScript\n",
      "Introduction to TypeScript 2\n",
      "Software Engineering: Introduction\n",
      "Web App Development with the Power of Node.js\n",
      "Circuits and Electronics 1: Basic Circuit Analysis\n",
      "JavaScript Introduction\n",
      "Python for Data Science\n",
      "Robotics: Kinematics and Mathematical Foundations\n",
      "IoT Sensors and Devices (T2 2018)\n",
      "Making Science and Engineering Pictures: A Practical Guide to Presenting Your Work\n",
      "Principles of Electronic Biosensors\n",
      "Introduction to Device Programming\n",
      "Introduction to the Internet of Things (IoT) (T1 2018)\n",
      "Computation Structures 3: Computer Organization\n",
      "Entrepreneurship for Engineers\n",
      "Electronic Materials and Devices\n",
      "Paradigms of Computer Programming - Fundamentals\n",
      "Introduction to the Fundamentals of Sparse Representations\n",
      "Discrete-Time Signal Processing\n",
      "Embedded Systems - Shape The World: Multi-threaded Interfacing\n",
      "Embedded Systems - Shape The World: Microcontroller Input/output\n",
      "Robotics: Dynamics and Control\n",
      "Micro and Nanofabrication (MEMS)\n",
      "Robotics: Locomotion Engineering\n",
      "Realtime Bluetooth Networks\n",
      "Data Structures and Software Design\n",
      "Using Python for Research\n",
      "Programming with Python for Data Science\n",
      "Introduction to Linux\n",
      "Robotics: Vision Intelligence and Machine Learning\n",
      "TOEFL Test Preparation: The Insider’s Guide\n",
      "Introduction to Xamarin.Forms\n",
      "Introduction to C#\n",
      "Circuits and Electronics\n",
      "Underactuated Robotics\n",
      "Robot Mechanics and Control, Part I\n",
      "Introductory Psychology\n",
      "DemoX\n"
     ]
    }
   ],
   "source": [
    "for e in extractt:\n",
    "    print(e)\n"
   ]
  },
  {
   "cell_type": "code",
   "execution_count": null,
   "metadata": {
    "collapsed": true
   },
   "outputs": [],
   "source": []
  }
 ],
 "metadata": {
  "kernelspec": {
   "display_name": "Python 3",
   "language": "python",
   "name": "python3"
  },
  "language_info": {
   "codemirror_mode": {
    "name": "ipython",
    "version": 3
   },
   "file_extension": ".py",
   "mimetype": "text/x-python",
   "name": "python",
   "nbconvert_exporter": "python",
   "pygments_lexer": "ipython3",
   "version": "3.6.3"
  }
 },
 "nbformat": 4,
 "nbformat_minor": 2
}
